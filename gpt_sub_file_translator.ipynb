{
 "cells": [
  {
   "cell_type": "markdown",
   "metadata": {},
   "source": [
    "DIVIDE SUB FILE INTO CHUNKS TO INPUT TOKENS IN GPT FOR TRANSLATION"
   ]
  },
  {
   "cell_type": "code",
   "execution_count": null,
   "metadata": {},
   "outputs": [],
   "source": [
    "import os\n",
    "\n",
    "## RUN THIS CELL FIRST, THEN RUN THE TRANSLATION FILE\n",
    "## YOUR SUB FILE NAME HERE!!\n",
    "filename = \"[UnkSubs] One Piece Film Z Eng Subs [720p].srt\"\n",
    "\n",
    "with open(filename, \"r+\", encoding=\"utf-8\") as f:\n",
    "    file_contents = f.read()\n",
    "\n",
    "def fetch_chunk(data, start, end):\n",
    "    try:\n",
    "        return \"\\n\".join(data[start:end])\n",
    "    except Exception as e:\n",
    "        print(f\"Exception, returning data from start...\\n{e}\")\n",
    "        return \"\\n\".join(data[start:])\n",
    "\n",
    "## DIVIDING FILE INTO CHUNKS OF MAXIMUM 200 LINES EACH\n",
    "list_of_lines = file_contents.split('\\n')\n",
    "max_lines = 200\n",
    "file_terminator = \"\\n\"\n",
    "## START OF EACH FILE\n",
    "start = 0\n",
    "## ITERATOR\n",
    "item_count = 0\n",
    "## COUNTER FOR HOW MANY LINES WE HAVE GONE TRHOUGH IN THAT FILE LOOP\n",
    "line_count = 0\n",
    "## POINTER TO LAST EMPTY LINE \"\\n\"\n",
    "last_break = 0\n",
    "## COUNTER FOR FILE NUMBER\n",
    "file_part = 0\n",
    "\n",
    "output_dir= os.getcwd() + \"\\\\fileparts\"\n",
    "if not os.path.isdir(output_dir):\n",
    "    os.mkdir(output_dir)\n",
    "\n",
    "while item_count < len(list_of_lines):\n",
    "    if list_of_lines[item_count] == \"\":\n",
    "        last_break = item_count\n",
    "    if (line_count > max_lines) or (item_count == len(list_of_lines)-1):\n",
    "        with open(f\"{output_dir}\\\\{filename.split('.')[0]}-{file_part}-engsub.txt\", \"w+\", encoding=\"utf-8\") as f:\n",
    "            f.write(fetch_chunk(list_of_lines, start, last_break))\n",
    "        start = last_break+1\n",
    "        line_count = 0\n",
    "        file_part = file_part + 1\n",
    "        item_count = start\n",
    "        continue\n",
    "    line_count = line_count + 1\n",
    "    item_count = item_count + 1"
   ]
  },
  {
   "cell_type": "markdown",
   "metadata": {},
   "source": [
    "TRANSLATE THE CHUNKS USING GPT"
   ]
  },
  {
   "cell_type": "code",
   "execution_count": null,
   "metadata": {},
   "outputs": [],
   "source": [
    "import openai\n",
    "from openai import OpenAI\n",
    "from dotenv import load_dotenv\n",
    "import os\n",
    "# Load the environment variables from .env file\n",
    "load_dotenv()\n",
    "# Accessing variables\n",
    "\n",
    "def correct_text(text):\n",
    "    \"\"\"Sends the text to ChatGPT for correction.\"\"\"\n",
    "    \n",
    "    client = OpenAI()\n",
    "\n",
    "    response = client.chat.completions.create(\n",
    "    model=\"gpt-4o\",\n",
    "    # response_format={ \"type\": \"json_object\" },\n",
    "    messages=[\n",
    "        {\"role\": \"system\", \"content\": \n",
    "            \"\"\"Você é um assistente muito útil de tradução de legendas. \n",
    "                Eu lhe informo um arquivo de legendas em inglês, e você traduz somente os textos da legenda, para português do Brasil.\n",
    "                Você me retorna o texto traduzido na mesma formatação entregue, somente mudando o idioma da legenda.\"\"\"},\n",
    "        {\"role\": \"user\", \"content\": text}\n",
    "    ]\n",
    "    )\n",
    "\n",
    "    return response.choices[0].message.content\n",
    "\n",
    "## TRANSLATE SUB FILE FROM CHUNKS (STILL HAVE TO CHANGE ABSOLUTE PATH)\n",
    "for i in range(file_part):\n",
    "    ## IF YOU DONT HAVE INPUT FILES, RUN THE NOTEBOOK FOR CHUNKING BEFORE RUNNING THIS\n",
    "    input_dir=\"fileparts\"\n",
    "    with open(f\"{input_dir}\\\\{filename.split('.')[0]}-{i}-engsub.txt\", \"r\", encoding=\"utf-8\") as f:\n",
    "        original_text = f.read()\n",
    "\n",
    "    print(f\"Starting translation part {i}...\")\n",
    "    translated_text = correct_text(original_text)\n",
    "\n",
    "    output_dir= os.getcwd() + \"\\\\translations\"\n",
    "    if not os.path.isdir(output_dir):\n",
    "        os.mkdir(output_dir)\n",
    "\n",
    "    with open(f\"{output_dir}\\\\{filename.split('.')[0]}-pt-{i}-engsub.txt\", \"w+\", encoding=\"utf-8\") as f:\n",
    "        f.write(translated_text)\n",
    "    print(f\"Translation part {i} finished!\")\n",
    "\n",
    "\n",
    "print(\"ALL Translation finished!\")"
   ]
  },
  {
   "cell_type": "markdown",
   "metadata": {},
   "source": [
    "UNIFY ALL CHUNK FILES INTO ONE SINGLE SOURCE FILE"
   ]
  },
  {
   "cell_type": "code",
   "execution_count": 44,
   "metadata": {},
   "outputs": [],
   "source": [
    "import os\n",
    "\n",
    "file_contents = ''\n",
    "output_dir= os.getcwd() + \"\\\\translations\"\n",
    "if not os.path.isdir(output_dir):\n",
    "    os.mkdir(output_dir)\n",
    "    \n",
    "for i in range(file_part):\n",
    "    with open(f\"{output_dir}\\\\{filename.split('.')[0]}-pt-{i}-engsub.txt\", \"r\", encoding=\"utf-8\") as f:\n",
    "        file_contents += '\\n\\n'+f.read()\n",
    "\n",
    "with open(f\"{output_dir}\\\\{filename.split('.')[0]}-FULL-PT-SUB.txt\", \"w+\", encoding=\"utf-8\") as f:\n",
    "    f.write(file_contents)"
   ]
  }
 ],
 "metadata": {
  "kernelspec": {
   "display_name": "venv",
   "language": "python",
   "name": "python3"
  },
  "language_info": {
   "codemirror_mode": {
    "name": "ipython",
    "version": 3
   },
   "file_extension": ".py",
   "mimetype": "text/x-python",
   "name": "python",
   "nbconvert_exporter": "python",
   "pygments_lexer": "ipython3",
   "version": "3.11.5"
  }
 },
 "nbformat": 4,
 "nbformat_minor": 2
}
